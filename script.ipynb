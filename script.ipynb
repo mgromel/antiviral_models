{
 "cells": [
  {
   "cell_type": "code",
   "execution_count": 36,
   "metadata": {},
   "outputs": [],
   "source": [
    "#import libs\n",
    "import pandas as pd\n",
    "import numpy as np\n",
    "from sklearn.tree import DecisionTreeClassifier\n",
    "from sklearn.metrics import classification_report"
   ]
  },
  {
   "cell_type": "code",
   "execution_count": 4,
   "metadata": {},
   "outputs": [],
   "source": [
    "#import data\n",
    "\n",
    "df_p100 = pd.read_excel('ILS-SETS.xlsx', sheet_name='P100', index_col=0)\n",
    "df_MS2 = pd.read_excel('ILS-SETS.xlsx', sheet_name='MS2', index_col=0)\n",
    "df_Phi6 = pd.read_excel('ILS-SETS.xlsx', sheet_name='Phi6', index_col=0)"
   ]
  },
  {
   "cell_type": "markdown",
   "metadata": {},
   "source": [
    "# P100 MODEL"
   ]
  },
  {
   "cell_type": "code",
   "execution_count": 21,
   "metadata": {},
   "outputs": [],
   "source": [
    "# Training set for P100 virus\n",
    "Xt_p100 = df_p100[df_p100['Split']=='T'].iloc[:,-3:]\n",
    "yt_p100 = df_p100[df_p100['Split']=='T']['Activity']\n",
    "\n",
    "# Validation set for P100 virus\n",
    "Xv_p100 = df_p100[df_p100['Split']=='V'].iloc[:,-3:]\n",
    "yv_p100 = df_p100[df_p100['Split']=='V']['Activity']"
   ]
  },
  {
   "cell_type": "code",
   "execution_count": 38,
   "metadata": {},
   "outputs": [
    {
     "name": "stdout",
     "output_type": "stream",
     "text": [
      "Accuracy for training set: 0.93\n",
      "Accuracy for validation set: 0.86\n"
     ]
    }
   ],
   "source": [
    "# model fitting\n",
    "dt_classifier = DecisionTreeClassifier(max_depth=3, class_weight='balanced')\n",
    "dt_classifier.fit(Xt_p100, yt_p100)\n",
    "\n",
    "# predictions for training and validation sets\n",
    "predicted_train_p100 = dt_classifier.predict(Xt_p100)\n",
    "predicted_val_p100 = dt_classifier.predict(Xv_p100)\n",
    "\n",
    "# check model accuracy\n",
    "accuracy_train = dt_classifier.score(Xt_p100, yt_p100)\n",
    "accuracy_val = dt_classifier.score(Xv_p100, yv_p100)\n",
    "\n",
    "print(f'Accuracy for training set: {np.round(accuracy_train, 2)}\\nAccuracy for validation set: {np.round(accuracy_val, 2)}')"
   ]
  },
  {
   "cell_type": "code",
   "execution_count": 40,
   "metadata": {},
   "outputs": [
    {
     "name": "stdout",
     "output_type": "stream",
     "text": [
      "              precision    recall  f1-score   support\n",
      "\n",
      "      Active       0.60      0.67      0.63         9\n",
      "    Inactive       0.93      0.90      0.92        42\n",
      "\n",
      "    accuracy                           0.86        51\n",
      "   macro avg       0.76      0.79      0.77        51\n",
      "weighted avg       0.87      0.86      0.87        51\n",
      "\n"
     ]
    }
   ],
   "source": [
    "# generate classification report\n",
    "print(classification_report(yv_p100, predicted_val_p100))"
   ]
  },
  {
   "cell_type": "markdown",
   "metadata": {},
   "source": [
    "# MS2 MODEL"
   ]
  },
  {
   "cell_type": "code",
   "execution_count": null,
   "metadata": {},
   "outputs": [],
   "source": []
  },
  {
   "cell_type": "code",
   "execution_count": null,
   "metadata": {},
   "outputs": [],
   "source": []
  },
  {
   "cell_type": "markdown",
   "metadata": {},
   "source": [
    "# PHI6 MODEL"
   ]
  },
  {
   "cell_type": "markdown",
   "metadata": {},
   "source": []
  },
  {
   "cell_type": "code",
   "execution_count": null,
   "metadata": {},
   "outputs": [],
   "source": []
  }
 ],
 "metadata": {
  "kernelspec": {
   "display_name": "Python 3.10.6 64-bit",
   "language": "python",
   "name": "python3"
  },
  "language_info": {
   "codemirror_mode": {
    "name": "ipython",
    "version": 3
   },
   "file_extension": ".py",
   "mimetype": "text/x-python",
   "name": "python",
   "nbconvert_exporter": "python",
   "pygments_lexer": "ipython3",
   "version": "3.10.6"
  },
  "orig_nbformat": 4,
  "vscode": {
   "interpreter": {
    "hash": "279ad049dab8fe6e0789744662d617b37033d3461dbfb6f8bc26c9c5ba52909b"
   }
  }
 },
 "nbformat": 4,
 "nbformat_minor": 2
}
