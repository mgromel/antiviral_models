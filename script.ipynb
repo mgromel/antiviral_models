{
 "cells": [
  {
   "cell_type": "code",
   "execution_count": 117,
   "metadata": {},
   "outputs": [],
   "source": [
    "#import libs\n",
    "import pandas as pd\n",
    "import numpy as np\n",
    "from sklearn.tree import DecisionTreeClassifier\n",
    "from sklearn.metrics import classification_report\n",
    "from sklearn.metrics import accuracy_score\n",
    "from sklearn.model_selection import cross_val_predict"
   ]
  },
  {
   "cell_type": "code",
   "execution_count": 118,
   "metadata": {},
   "outputs": [],
   "source": [
    "#import data\n",
    "\n",
    "df_p100 = pd.read_excel('ILS-SETS.xlsx', sheet_name='P100', index_col=0)\n",
    "df_MS2 = pd.read_excel('ILS-SETS.xlsx', sheet_name='MS2', index_col=0)\n",
    "df_Phi6 = pd.read_excel('ILS-SETS.xlsx', sheet_name='Phi6', index_col=0)"
   ]
  },
  {
   "cell_type": "markdown",
   "metadata": {},
   "source": [
    "# P100 MODEL"
   ]
  },
  {
   "cell_type": "code",
   "execution_count": 119,
   "metadata": {},
   "outputs": [],
   "source": [
    "# Training set for P100 virus\n",
    "Xt_p100 = df_p100[df_p100['Split']=='T'].iloc[:,-3:]\n",
    "yt_p100 = df_p100[df_p100['Split']=='T']['Activity Class']\n",
    "\n",
    "# Validation set for P100 virus\n",
    "Xv_p100 = df_p100[df_p100['Split']=='V'].iloc[:,-3:]\n",
    "yv_p100 = df_p100[df_p100['Split']=='V']['Activity Class']"
   ]
  },
  {
   "cell_type": "code",
   "execution_count": 120,
   "metadata": {},
   "outputs": [
    {
     "name": "stdout",
     "output_type": "stream",
     "text": [
      "Accuracy for training set: 0.93\n",
      "Accuracy for validation set: 0.86\n",
      "Cross-validation score: 0.765\n"
     ]
    }
   ],
   "source": [
    "# model fitting\n",
    "dt_classifier = DecisionTreeClassifier(max_depth=3, class_weight='balanced')\n",
    "dt_classifier.fit(Xt_p100, yt_p100)\n",
    "\n",
    "# predictions for training and validation sets\n",
    "predicted_train_p100 = dt_classifier.predict(Xt_p100)\n",
    "predicted_val_p100 = dt_classifier.predict(Xv_p100)\n",
    "\n",
    "# check model accuracy\n",
    "accuracy_train = dt_classifier.score(Xt_p100, yt_p100)\n",
    "accuracy_val = dt_classifier.score(Xv_p100, yv_p100)\n",
    "\n",
    "#stratified kfold\n",
    "predicted_val_p100_cv = cross_val_predict(estimator = dt_classifier, X=Xv_p100, y=yv_p100, cv=5)\n",
    "val_cv_score = accuracy_score(yv_p100, predicted_val_p100_cv)\n",
    "\n",
    "print(f'Accuracy for training set: {np.round(accuracy_train, 2)}\\nAccuracy for validation set: {np.round(accuracy_val, 2)}')\n",
    "print(f'Cross-validation score: {np.round(val_cv_score, 3)}')"
   ]
  },
  {
   "cell_type": "code",
   "execution_count": 121,
   "metadata": {},
   "outputs": [
    {
     "name": "stdout",
     "output_type": "stream",
     "text": [
      "              precision    recall  f1-score   support\n",
      "\n",
      "      Active       0.60      0.67      0.63         9\n",
      "    Inactive       0.93      0.90      0.92        42\n",
      "\n",
      "    accuracy                           0.86        51\n",
      "   macro avg       0.76      0.79      0.77        51\n",
      "weighted avg       0.87      0.86      0.87        51\n",
      "\n"
     ]
    }
   ],
   "source": [
    "# generate classification report\n",
    "# Note that in binary classification, recall of the positive class is also known as “sensitivity”; \n",
    "# recall of the negative class is “specificity”.\n",
    "\n",
    "print(classification_report(yv_p100, predicted_val_p100))"
   ]
  },
  {
   "cell_type": "markdown",
   "metadata": {},
   "source": [
    "# MS2 MODEL"
   ]
  },
  {
   "cell_type": "code",
   "execution_count": 122,
   "metadata": {},
   "outputs": [],
   "source": [
    "# Training set for MS2 virus\n",
    "Xt_MS2 = df_MS2[df_MS2['Split']=='T'].iloc[:,-3:]\n",
    "yt_MS2 = df_MS2[df_MS2['Split']=='T']['Activity Class']\n",
    "\n",
    "# Validation set for MS2 virus\n",
    "Xv_MS2 = df_MS2[df_MS2['Split']=='V'].iloc[:,-3:]\n",
    "yv_MS2 = df_MS2[df_MS2['Split']=='V']['Activity Class']"
   ]
  },
  {
   "cell_type": "code",
   "execution_count": 123,
   "metadata": {},
   "outputs": [
    {
     "name": "stdout",
     "output_type": "stream",
     "text": [
      "Accuracy for training set: 0.96\n",
      "Accuracy for validation set: 0.88\n",
      "Cross-validation score: 0.863\n"
     ]
    }
   ],
   "source": [
    "# model fitting\n",
    "dt_classifier = DecisionTreeClassifier(max_depth=3, class_weight='balanced')\n",
    "dt_classifier.fit(Xt_MS2, yt_MS2)\n",
    "\n",
    "# predictions for training and validation sets\n",
    "predicted_train_MS2 = dt_classifier.predict(Xt_MS2)\n",
    "predicted_val_MS2 = dt_classifier.predict(Xv_MS2)\n",
    "\n",
    "# check model accuracy\n",
    "accuracy_train = dt_classifier.score(Xt_MS2, yt_MS2)\n",
    "accuracy_val = dt_classifier.score(Xv_MS2, yv_MS2)\n",
    "\n",
    "#stratified kfold\n",
    "predicted_val_MS2_cv = cross_val_predict(estimator = dt_classifier, X=Xv_MS2, y=yv_MS2, cv=5)\n",
    "val_cv_score = accuracy_score(yv_MS2,predicted_val_MS2_cv)\n",
    "\n",
    "print(f'Accuracy for training set: {np.round(accuracy_train, 2)}\\nAccuracy for validation set: {np.round(accuracy_val, 2)}')\n",
    "print(f'Cross-validation score: {np.round(val_cv_score, 3)}')"
   ]
  },
  {
   "cell_type": "code",
   "execution_count": 124,
   "metadata": {},
   "outputs": [
    {
     "name": "stdout",
     "output_type": "stream",
     "text": [
      "              precision    recall  f1-score   support\n",
      "\n",
      "      Active       0.62      0.62      0.62         8\n",
      "    Inactive       0.93      0.93      0.93        43\n",
      "\n",
      "    accuracy                           0.88        51\n",
      "   macro avg       0.78      0.78      0.78        51\n",
      "weighted avg       0.88      0.88      0.88        51\n",
      "\n"
     ]
    }
   ],
   "source": [
    "# generate classification report\n",
    "print(classification_report(yv_MS2, predicted_val_MS2))"
   ]
  },
  {
   "cell_type": "markdown",
   "metadata": {},
   "source": [
    "# PHI6 MODEL"
   ]
  },
  {
   "cell_type": "code",
   "execution_count": 125,
   "metadata": {},
   "outputs": [],
   "source": [
    "# Training set for Phi6 virus\n",
    "Xt_Phi6 = df_Phi6[df_Phi6['Split']=='T'].iloc[:,-3:]\n",
    "yt_Phi6 = df_Phi6[df_Phi6['Split']=='T']['Activity Class']\n",
    "\n",
    "# Validation set for Phi6 virus\n",
    "Xv_Phi6 = df_Phi6[df_Phi6['Split']=='V'].iloc[:,-3:]\n",
    "yv_Phi6 = df_Phi6[df_Phi6['Split']=='V']['Activity Class']"
   ]
  },
  {
   "cell_type": "code",
   "execution_count": 126,
   "metadata": {},
   "outputs": [
    {
     "name": "stdout",
     "output_type": "stream",
     "text": [
      "Accuracy for training set: 0.88\n",
      "Accuracy for validation set: 0.9\n",
      "Cross-validation score: 0.843\n"
     ]
    }
   ],
   "source": [
    "# model fitting\n",
    "dt_classifier = DecisionTreeClassifier(max_depth=3, class_weight='balanced')\n",
    "dt_classifier.fit(Xt_Phi6, yt_Phi6)\n",
    "\n",
    "# predictions for training and validation sets\n",
    "predicted_train_Phi6 = dt_classifier.predict(Xt_Phi6)\n",
    "predicted_val_Phi6 = dt_classifier.predict(Xv_Phi6)\n",
    "\n",
    "# check model accuracy\n",
    "accuracy_train = dt_classifier.score(Xt_Phi6, yt_Phi6)\n",
    "accuracy_val = dt_classifier.score(Xv_Phi6, yv_Phi6)\n",
    "\n",
    "#stratified kfold\n",
    "predicted_val_Phi6_cv = cross_val_predict(estimator = dt_classifier, X=Xv_Phi6, y=yv_Phi6, cv=5)\n",
    "val_cv_score = accuracy_score(yv_Phi6, predicted_val_Phi6_cv)\n",
    "\n",
    "print(f'Accuracy for training set: {np.round(accuracy_train, 2)}\\nAccuracy for validation set: {np.round(accuracy_val, 2)}')\n",
    "print(f'Cross-validation score: {np.round(val_cv_score, 3)}')"
   ]
  },
  {
   "cell_type": "code",
   "execution_count": 127,
   "metadata": {},
   "outputs": [
    {
     "name": "stdout",
     "output_type": "stream",
     "text": [
      "              precision    recall  f1-score   support\n",
      "\n",
      "      Active       0.90      0.86      0.88        21\n",
      "    Inactive       0.90      0.93      0.92        30\n",
      "\n",
      "    accuracy                           0.90        51\n",
      "   macro avg       0.90      0.90      0.90        51\n",
      "weighted avg       0.90      0.90      0.90        51\n",
      "\n"
     ]
    }
   ],
   "source": [
    "# generate classification report\n",
    "print(classification_report(yv_Phi6, predicted_val_Phi6))"
   ]
  },
  {
   "cell_type": "code",
   "execution_count": null,
   "metadata": {},
   "outputs": [],
   "source": []
  }
 ],
 "metadata": {
  "kernelspec": {
   "display_name": "Python 3.10.6 ('venv': venv)",
   "language": "python",
   "name": "python3"
  },
  "language_info": {
   "codemirror_mode": {
    "name": "ipython",
    "version": 3
   },
   "file_extension": ".py",
   "mimetype": "text/x-python",
   "name": "python",
   "nbconvert_exporter": "python",
   "pygments_lexer": "ipython3",
   "version": "3.10.6"
  },
  "orig_nbformat": 4,
  "vscode": {
   "interpreter": {
    "hash": "c11d8ee2501778119ad00a3499efcc0abf46b0f9ff620eccca036b857c12ea44"
   }
  }
 },
 "nbformat": 4,
 "nbformat_minor": 2
}
